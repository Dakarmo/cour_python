{
 "cells": [
  {
   "cell_type": "code",
   "execution_count": 3,
   "metadata": {},
   "outputs": [
    {
     "name": "stdout",
     "output_type": "stream",
     "text": [
      "bonjour : Ceci est un code jupyter \n"
     ]
    }
   ],
   "source": [
    "# mon premier code python\n",
    "print('bonjour : Ceci est un code jupyter ')"
   ]
  },
  {
   "cell_type": "code",
   "execution_count": null,
   "metadata": {},
   "outputs": [],
   "source": [
    "def nom_de_la_fonction(argument_1, argument_2):\n",
    "    restultat = argument_1 + argument_2\n",
    "    return restultat\n",
    "\n",
    "nom_de_la_fonction(3, 2)"
   ]
  },
  {
   "cell_type": "code",
   "execution_count": 5,
   "metadata": {},
   "outputs": [
    {
     "name": "stdout",
     "output_type": "stream",
     "text": [
      "energie  Supérieur à  energie_limite\n"
     ]
    }
   ],
   "source": [
    "def e_potentielle(masse, hauteur, energie_limite, g=9.81):\n",
    "    energie = masse * hauteur * g\n",
    "    \n",
    "    if energie > energie_limite:\n",
    "        return 'energie  Supérieur à  energie_limite'\n",
    "    elif energie < energie_limite:\n",
    "        return 'energie Inférieur à  energie_limite'\n",
    "    else:\n",
    "        return 'energie = energie_limite'\n",
    "    \n",
    "\n",
    "print(e_potentielle(masse=10, hauteur=10, energie_limite=50))\n",
    "\n",
    "#Energie potentiel\n",
    "def e_potentielle(masse, hauteur, energie_limite, g=9.81):\n",
    "  energie = masse * hauteur * g \n",
    "  print(energie)\n",
    "  return energie > energie_limite\n",
    "\n",
    "# ici g a une valeur par défaut donc nous ne sommes pas obligé de lui donner une valeur\n",
    "e_potentielle(masse=10, hauteur=10,energie_limite=1000)"
   ]
  },
  {
   "cell_type": "code",
   "execution_count": 6,
   "metadata": {},
   "outputs": [
    {
     "name": "stdout",
     "output_type": "stream",
     "text": [
      "négatif\n"
     ]
    }
   ],
   "source": [
    "def test_du_signe(valeur):\n",
    "  if valeur < 0:\n",
    "    print('négatif')\n",
    "  elif valeur == 0:\n",
    "    print('nul')\n",
    "  else:\n",
    "    print('positif')\n",
    "\n",
    "test_du_signe(-2)"
   ]
  },
  {
   "cell_type": "code",
   "execution_count": 11,
   "metadata": {},
   "outputs": [
    {
     "name": "stdout",
     "output_type": "stream",
     "text": [
      "0\n",
      "3\n",
      "6\n",
      "9\n"
     ]
    }
   ],
   "source": [
    "for i in range(0, 10, 3):\n",
    "    print(i)"
   ]
  },
  {
   "cell_type": "code",
   "execution_count": 12,
   "metadata": {},
   "outputs": [],
   "source": [
    "x = 0\n",
    "\n",
    "while x < 10 :\n",
    "    print(x)\n",
    "    x += 1"
   ]
  },
  {
   "cell_type": "code",
   "execution_count": 26,
   "metadata": {},
   "outputs": [
    {
     "data": {
      "text/plain": [
       "[5, 8, 13, 21, 34, 55]"
      ]
     },
     "execution_count": 26,
     "metadata": {},
     "output_type": "execute_result"
    }
   ],
   "source": [
    "\n",
    "def suite_fib(a, b, n):\n",
    "    fib_list = [] # une liste\n",
    "    while(b < n):\n",
    "        fib_list.append(a)\n",
    "        # c = a\n",
    "        # a = b\n",
    "        # b=c+b\n",
    "        a, b = b, a + b\n",
    "    return fib_list\n",
    "\n",
    "suite_fib(5, 8, 100)\n",
    "\n"
   ]
  },
  {
   "cell_type": "code",
   "execution_count": 27,
   "metadata": {},
   "outputs": [
    {
     "data": {
      "text/plain": [
       "3"
      ]
     },
     "execution_count": 27,
     "metadata": {},
     "output_type": "execute_result"
    }
   ],
   "source": [
    "#les dictionnaires\n",
    "inventaire = {\n",
    "    'pommes': 100,\n",
    "    'bananes': 80,\n",
    "    'poires': 120,\n",
    "}\n",
    "\n",
    "len(inventaire)\n",
    "\n",
    "\n"
   ]
  },
  {
   "cell_type": "code",
   "execution_count": 30,
   "metadata": {},
   "outputs": [
    {
     "data": {
      "text/plain": [
       "{'négatifs': [-2], 'positifs': [9, 3]}"
      ]
     },
     "execution_count": 30,
     "metadata": {},
     "output_type": "execute_result"
    }
   ],
   "source": [
    "classeur = {\n",
    "    'négatifs': [],\n",
    "    'positifs':[]\n",
    "}\n",
    "\n",
    "def trier(dic, valeur):\n",
    "    if valeur > 0:\n",
    "        dic.get('positifs').append(valeur)\n",
    "    elif valeur < 0:\n",
    "        dic.get('négatifs').append(valeur)\n",
    "    else:\n",
    "        return 'Valeur = 0'\n",
    "\n",
    "    return dic\n",
    "\n",
    "trier(classeur, 9)\n",
    "trier(classeur, -2)\n",
    "trier(classeur, 3)"
   ]
  },
  {
   "cell_type": "code",
   "execution_count": 1,
   "metadata": {},
   "outputs": [
    {
     "name": "stdout",
     "output_type": "stream",
     "text": [
      "['0: 0 ', '1: 1 ', '2: 4 ', '3: 9 ', '4: 16 ', '5: 25 ', '6: 36 ', '7: 49 ', '8: 64 ', '9: 81 ', '10: 100 ', '11: 121 ', '12: 144 ', '13: 169 ', '14: 196 ', '15: 225 ', '16: 256 ', '17: 289 ', '18: 324 ', '19: 361 ']\n"
     ]
    }
   ],
   "source": [
    "with open ('fichier.txt', 'w') as f:\n",
    "    for i in range(0, 20):\n",
    "        f.write(f'{i}: {i**2} \\n')\n",
    "    f.close()\n",
    "\n",
    "list = open('fichier.txt', 'r').read().splitlines()\n",
    "print(list)"
   ]
  },
  {
   "cell_type": "code",
   "execution_count": 7,
   "metadata": {},
   "outputs": [
    {
     "name": "stdout",
     "output_type": "stream",
     "text": [
      "A => [1 2 3 4 5]\n",
      "1\n",
      "5\n",
      "B => [[0. 0. 0.]\n",
      " [0. 0. 0.]]\n",
      "(2, 3)\n"
     ]
    }
   ],
   "source": [
    "import numpy as np\n",
    "\n",
    "# Création d'un tableau unidimensionnel\n",
    "A = np.array([1, 2, 3, 4, 5])\n",
    "B = np.zeros((2, 3)) #tableau de 0 aux dimensions 2x3\n",
    "C = np.ones((2, 3)) #tableau de 1 aux dimensions 2x3\n",
    "D = np.random.randn(2, 3) # tableau aléatoire (distribution normale) aux dimensions 2x3\n",
    "E = np.random.rand(2, 3) # tableau aléatoire (distribution uniforme)\n",
    "\n",
    "F = np.random.randint(0, 10, [2, 3]) # tableau d'entiers aléatoires de 0 à 10 et de dimension 2x3\n",
    "\n",
    "# Affichage du tableau\n",
    "print('A =>', A)\n",
    "print(A.ndim) # Permet d'afficher le nombre de dimension\n",
    "print(A.size) # Permet d'afficher la longeur du tableau\n",
    "\n",
    "\n",
    "print('B =>', B)\n",
    "print(B.shape) # Permet d'afficher sa forme\n",
    "\n"
   ]
  },
  {
   "cell_type": "code",
   "execution_count": 6,
   "metadata": {},
   "outputs": [
    {
     "name": "stdout",
     "output_type": "stream",
     "text": [
      "[[1. 1. 1.]\n",
      " [1. 1. 1.]]\n",
      "[ 1.  2.  3.  4.  5.  6.  7.  8.  9. 10.]\n",
      "[1 3 5 7 9]\n"
     ]
    }
   ],
   "source": [
    "import numpy as np\n",
    "\n",
    "A = np.ones((2, 3), dtype=np.float16) # définit le type et la place à occupé sur la mémoire\n",
    "\n",
    "B = np.linspace(1, 10, 10)\n",
    "C = np.arange(1, 10, 2)\n",
    "\n",
    "print(A)\n",
    "print(B)\n",
    "print(C)"
   ]
  },
  {
   "cell_type": "code",
   "execution_count": 9,
   "metadata": {},
   "outputs": [
    {
     "name": "stdout",
     "output_type": "stream",
     "text": [
      "Mon premier tableau :  [[0. 0. 0.]\n",
      " [0. 0. 0.]]\n",
      "Mon premier reshape :  [[0. 0.]\n",
      " [0. 0.]\n",
      " [0. 0.]]\n",
      "Mon tableau applati :  [0. 0. 0. 0. 0. 0.]\n"
     ]
    }
   ],
   "source": [
    "import numpy as np\n",
    "\n",
    "A = np.zeros((2,3))\n",
    "print('Mon premier tableau : ', A)\n",
    "A = A.reshape((3, 2))\n",
    "print('Mon premier reshape : ', A)\n",
    "print('Mon tableau applati : ', A.ravel())"
   ]
  },
  {
   "cell_type": "code",
   "execution_count": 11,
   "metadata": {},
   "outputs": [
    {
     "name": "stdout",
     "output_type": "stream",
     "text": [
      "Tab A [[0. 0. 0.]\n",
      " [0. 0. 0.]]\n",
      "Tab B [[1. 1. 1.]\n",
      " [1. 1. 1.]]\n",
      "Concatenation sur axe Y [[0. 0. 0.]\n",
      " [0. 0. 0.]\n",
      " [1. 1. 1.]\n",
      " [1. 1. 1.]]\n",
      "Concatenation sur axe X [[0. 0. 0. 1. 1. 1.]\n",
      " [0. 0. 0. 1. 1. 1.]]\n"
     ]
    }
   ],
   "source": [
    "import numpy as np\n",
    "\n",
    "A = np.zeros((2,3))\n",
    "B = np.ones((2,3))\n",
    "\n",
    "print('Tab A', A)\n",
    "print('Tab B', B)\n",
    "\n",
    "print('Concatenation sur axe Y', np.concatenate((A,B), axis=0))\n",
    "print('Concatenation sur axe X', np.concatenate((A,B), axis=1))\n"
   ]
  },
  {
   "cell_type": "code",
   "execution_count": 24,
   "metadata": {},
   "outputs": [
    {
     "data": {
      "text/plain": [
       "array([[26, 27, 61, 16, 42, 72, 89, 41, 58, 51,  1],\n",
       "       [54, 13, 87, 65,  1, 94, 97, 36, 14, 93,  1],\n",
       "       [48,  2, 11, 45, 21, 72, 58, 49, 87, 83,  1],\n",
       "       [85, 10, 89, 13, 25, 64, 90, 54, 22, 25,  1]])"
      ]
     },
     "execution_count": 24,
     "metadata": {},
     "output_type": "execute_result"
    }
   ],
   "source": [
    "import numpy as np \n",
    "\n",
    "def initialisation(m, n):\n",
    "    tableau = np.random.randint(0, 100, [m, n+1])\n",
    "    for sous_tableau in tableau:\n",
    "        sous_tableau[n] = 1\n",
    "    return tableau\n",
    "\n",
    "initialisation(4, 10)"
   ]
  },
  {
   "cell_type": "code",
   "execution_count": 25,
   "metadata": {},
   "outputs": [
    {
     "name": "stdout",
     "output_type": "stream",
     "text": [
      "honeyguidemoon\n"
     ]
    }
   ],
   "source": [
    "c = \"moon\"\n",
    "b = \"guide\"\n",
    "a = \"honey\"\n",
    "print(a+b+c)"
   ]
  },
  {
   "cell_type": "code",
   "execution_count": 5,
   "metadata": {},
   "outputs": [
    {
     "name": "stdout",
     "output_type": "stream",
     "text": [
      "2\n",
      "[[1]\n",
      " [4]]\n",
      "[[10 10  3]\n",
      " [10 10  6]]\n"
     ]
    }
   ],
   "source": [
    "import numpy as np\n",
    "\n",
    "A = np.array([[1, 2, 3], [4, 5, 6]])\n",
    "print(A[0,1])\n",
    "print(A[0:2,0:1])\n",
    "A[0:2,0:2]=10\n",
    "print(A)"
   ]
  },
  {
   "cell_type": "code",
   "execution_count": 4,
   "metadata": {},
   "outputs": [
    {
     "data": {
      "image/png": "[encoded data removed]",
      "text/plain": [
       "<Figure size 640x480 with 1 Axes>"
      ]
     },
     "metadata": {},
     "output_type": "display_data"
    }
   ],
   "source": [
    "import matplotlib.pyplot as plt\n",
    "\n",
    "x = np.linspace(0, 2, 10)\n",
    "y = x**2\n",
    "\n",
    "plt.plot(x, y)\n",
    "plt.show()"
   ]
  }
 ],
 "metadata": {
  "kernelspec": {
   "display_name": "Python 3",
   "language": "python",
   "name": "python3"
  },
  "language_info": {
   "codemirror_mode": {
    "name": "ipython",
    "version": 3
   },
   "file_extension": ".py",
   "mimetype": "text/x-python",
   "name": "python",
   "nbconvert_exporter": "python",
   "pygments_lexer": "ipython3",
   "version": "3.12.0"
  },
  "orig_nbformat": 4,
  "vscode": {
   "interpreter": {
    "hash": "f13e179bf8c8417ee87fe09a634786cf9839d34c62a97425dd076139bf42dea1"
   }
  }
 },
 "nbformat": 4,
 "nbformat_minor": 2
}
